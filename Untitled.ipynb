{
 "cells": [
  {
   "cell_type": "markdown",
   "id": "6a73c391-df58-458e-b6f2-d3c596728f05",
   "metadata": {},
   "source": [
    "# Week 4 Individual Assignment"
   ]
  },
  {
   "cell_type": "markdown",
   "id": "6245e63e-fa0d-4e00-a779-7d7d9954d8df",
   "metadata": {},
   "source": [
    "## Name: Catherine Ren"
   ]
  },
  {
   "cell_type": "markdown",
   "id": "c880039a-5391-48ce-abb1-91b56b3a340b",
   "metadata": {},
   "source": [
    "Description: This week, my objective is to refine my Week 3 Assignment, where I analyzed the highest level of Educational Attainment achieved and to create a chart illustrating these findings. I used my Week 3 notebook to serve as a foundation, and all modifications or additions made in this session will be marked as updates for Week 4."
   ]
  },
  {
   "cell_type": "code",
   "execution_count": null,
   "id": "70b62bc9-e2d8-4616-abc0-bc6bf9cb938e",
   "metadata": {},
   "outputs": [],
   "source": []
  }
 ],
 "metadata": {
  "kernelspec": {
   "display_name": "Python 3 (ipykernel)",
   "language": "python",
   "name": "python3"
  },
  "language_info": {
   "codemirror_mode": {
    "name": "ipython",
    "version": 3
   },
   "file_extension": ".py",
   "mimetype": "text/x-python",
   "name": "python",
   "nbconvert_exporter": "python",
   "pygments_lexer": "ipython3",
   "version": "3.11.7"
  }
 },
 "nbformat": 4,
 "nbformat_minor": 5
}
